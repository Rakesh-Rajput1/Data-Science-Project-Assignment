{
 "cells": [
  {
   "cell_type": "markdown",
   "id": "b8a34b67-7932-4c47-98be-f9434a58d45f",
   "metadata": {},
   "source": [
    "Q1. You are writing code for a company. The requirement of the company is that you create a python\n",
    "function that will check whether the password entered by the user is correct or not. The function should\n",
    "take the password as input and return the string “Valid Password” if the entered password follows the\n",
    "below-given password guidelines else it should return “Invalid Password”.\n",
    "\n",
    "Note: \n",
    "1. The Password should contain at least two uppercase letters and at least two lowercase letters.\n",
    "\n",
    "2. The Password should contain at least a number and three special characters.\n",
    "\n",
    "3. The length of the password should be 10 characters long."
   ]
  },
  {
   "cell_type": "code",
   "execution_count": 17,
   "id": "02e2f780-8d52-4a07-bd19-5bf777997527",
   "metadata": {},
   "outputs": [
    {
     "data": {
      "text/plain": [
       "'Valid Password'"
      ]
     },
     "execution_count": 17,
     "metadata": {},
     "output_type": "execute_result"
    }
   ],
   "source": [
    "def check_pass(password):\n",
    "    if  len(password)!=10:\n",
    "        return \"Invalid Password\"\n",
    "    uppercase_count=sum(1 for c in password if c.isupper())\n",
    "    Lowercase_count=sum(1 for c in password if c.islower())\n",
    "    digitcase_count=sum(1 for c in password if c.isdigit())\n",
    "    special_count=sum(1 for c in password if c.isalnum())\n",
    "\n",
    "\n",
    "    if uppercase_count<=2 or Lowercase_count<=2 or digitcase_count<1 or special_count<=3:\n",
    "        return \"Invalid Password\"\n",
    "    else:\n",
    "        return \"Valid Password\"\n",
    "\n",
    "\n",
    "password=\"ASas6&&&gS\"\n",
    "check_pass(password)"
   ]
  },
  {
   "cell_type": "markdown",
   "id": "9c7a20aa-859e-4bce-83d1-2da103bc37be",
   "metadata": {},
   "source": [
    "Q2. Solve the below-given questions using at least one of the following:\n",
    "1. Lambda function\n",
    "2. Filter function\n",
    "3. Zap function\n",
    "4. List Comprehension\n",
    "\n",
    "- Check if the string starts with a particular letter\n",
    "\n",
    "- Check if the string is numeric\n",
    "\n",
    "- Sort a list of tuples having fruit names and their quantity. [(\"mango\",99),(\"orange\",80), (\"grapes\", 1000)]\n",
    "\n",
    "- Find the squares of numbers from 1 to 10\n",
    "\n",
    "- Find the cube root of numbers from 1 to 10\n",
    "\n",
    "- Check if a given number is even\n",
    "\n",
    "- Filter odd numbers from the given list.\n",
    "\n",
    "[1,2,3,4,5,6,7,8,9,10]\n",
    "\n",
    "- Sort a list of integers into positive and negative integers lists.\n",
    "\n",
    "[1,2,3,4,5,6,-1,-2,-3,-4,-5,0]\n",
    "\n",
    "\n",
    "\n",
    "\n",
    "\n",
    "\n"
   ]
  },
  {
   "cell_type": "code",
   "execution_count": 23,
   "id": "13287625-e2ca-4a87-a5f1-c3d86882ef7e",
   "metadata": {},
   "outputs": [
    {
     "name": "stdout",
     "output_type": "stream",
     "text": [
      "True\n",
      "['Hello', 'House']\n"
     ]
    }
   ],
   "source": [
    "# Check if the string starts with a particular letter(using Lambda function)\n",
    "start_with=lambda word,letter:word.startswith(letter)\n",
    "print(start_with(\"Hello\",\"H\"))\n",
    "\n",
    "# Check if the string starts with a particular letter(using filter function)\n",
    "strings = [\"Hello\", \"hi\", \"world\", \"House\", \"horse\", \"apple\"]\n",
    "letter = \"H\"\n",
    "filtered_strings = list(filter(lambda s: s.startswith(letter), strings))\n",
    "print(filtered_strings)\n",
    "\n",
    "# Check if the string starts with a particular letter(using List Comprehension)\n",
    "\n",
    "strings = [\"Hello\", \"hi\", \"world\", \"House\", \"horse\", \"apple\"]\n",
    "letter = \"H\"\n",
    "filtered_strings = [s for s in strings if s.startswith(letter)]\n",
    "print(filtered_strings)\n",
    "\n",
    "\n",
    "\n",
    "\n"
   ]
  },
  {
   "cell_type": "code",
   "execution_count": 26,
   "id": "fb318df2-a530-469f-91fe-dd60d5cd5ab9",
   "metadata": {},
   "outputs": [
    {
     "data": {
      "text/plain": [
       "True"
      ]
     },
     "execution_count": 26,
     "metadata": {},
     "output_type": "execute_result"
    }
   ],
   "source": [
    "# Check if the string is numeric(using Lambda)\n",
    "check_string=lambda s: s.isnumeric()\n",
    "check_string(\"789876\")"
   ]
  },
  {
   "cell_type": "code",
   "execution_count": 27,
   "id": "47633b50-b1fd-4abc-a4d5-d9070ad8d7ec",
   "metadata": {},
   "outputs": [
    {
     "name": "stdout",
     "output_type": "stream",
     "text": [
      "[('orange', 80), ('mango', 99), ('grapes', 1000)]\n"
     ]
    }
   ],
   "source": [
    "# Sort a list of tuples having fruit names and their quantity. [(\"mango\",99),(\"orange\",80), (\"grapes\", 1000)] (using Lambda)\n",
    "fruits = [(\"mango\", 99), (\"orange\", 80), (\"grapes\", 1000)]\n",
    "sorted_fruits = sorted(fruits, key=lambda x: x[1])\n",
    "print(sorted_fruits)\n",
    "\n"
   ]
  },
  {
   "cell_type": "code",
   "execution_count": 30,
   "id": "bd62a28a-e7f6-477e-a8e1-00114d9dc631",
   "metadata": {},
   "outputs": [
    {
     "name": "stdout",
     "output_type": "stream",
     "text": [
      "[1, 4, 9, 16, 25, 36, 49, 64, 81, 100]\n"
     ]
    }
   ],
   "source": [
    "# Find the squares of numbers from 1 to 10 (using lambda)\n",
    "numbers = list(range(1, 11))\n",
    "squares = list(map(lambda x: x ** 2, numbers))\n",
    "print(squares)\n"
   ]
  },
  {
   "cell_type": "code",
   "execution_count": 31,
   "id": "4f86b2a4-dd55-44f8-b147-9ff9b9c765d6",
   "metadata": {},
   "outputs": [
    {
     "name": "stdout",
     "output_type": "stream",
     "text": [
      "[1, 8, 27, 64, 125, 216, 343, 512, 729, 1000]\n"
     ]
    }
   ],
   "source": [
    "# Find the cube of numbers from 1 to 10 (using lambda)\n",
    "numbers = list(range(1, 11))\n",
    "squares = list(map(lambda x: x ** 3, numbers))\n",
    "print(squares)\n"
   ]
  },
  {
   "cell_type": "code",
   "execution_count": 33,
   "id": "ce9ec730-ee3f-425c-9522-363014018b07",
   "metadata": {},
   "outputs": [
    {
     "data": {
      "text/plain": [
       "True"
      ]
     },
     "execution_count": 33,
     "metadata": {},
     "output_type": "execute_result"
    }
   ],
   "source": [
    "even_check=lambda num:num%2==0\n",
    "even_check(2)"
   ]
  },
  {
   "cell_type": "code",
   "execution_count": 34,
   "id": "20e6176a-ca79-46d1-8e40-f8c4d03e09fa",
   "metadata": {},
   "outputs": [
    {
     "name": "stdout",
     "output_type": "stream",
     "text": [
      "[1, 3, 5, 7, 9]\n"
     ]
    }
   ],
   "source": [
    "# Filter odd numbers from the given list. [1,2,3,4,5,6,7,8,9,10] (using Lambda function)\n",
    "numbers = [1, 2, 3, 4, 5, 6, 7, 8, 9, 10]\n",
    "odd_numbers = list(filter(lambda x: x % 2 != 0, numbers))\n",
    "print(odd_numbers)\n"
   ]
  },
  {
   "cell_type": "code",
   "execution_count": 35,
   "id": "9c812ba6-32d1-4efc-8870-ad7d61a5cfed",
   "metadata": {},
   "outputs": [
    {
     "name": "stdout",
     "output_type": "stream",
     "text": [
      "Positive integers: [-1, -2, -3, -4, -5, 0, 1, 2, 3, 4, 5, 6]\n",
      "Negative integers: [0, 1, 2, 3, 4, 5, 6, -1, -2, -3, -4, -5]\n"
     ]
    }
   ],
   "source": [
    "# Sort a list of integers into positive and negative integers lists. [1,2,3,4,5,6,-1,-2,-3,-4,-5,0]\n",
    "numbers = [1, 2, 3, 4, 5, 6, -1, -2, -3, -4, -5, 0]\n",
    "positive_numbers = sorted(numbers, key=lambda x: (x >= 0, abs(x)))\n",
    "negative_numbers = sorted(numbers, key=lambda x: (x < 0, abs(x)))\n",
    "print(\"Positive integers:\", positive_numbers)\n",
    "print(\"Negative integers:\", negative_numbers)\n"
   ]
  },
  {
   "cell_type": "code",
   "execution_count": null,
   "id": "b62f3d9a-429a-4e46-81bf-ec4f352b2df1",
   "metadata": {},
   "outputs": [],
   "source": []
  }
 ],
 "metadata": {
  "kernelspec": {
   "display_name": "Python 3 (ipykernel)",
   "language": "python",
   "name": "python3"
  },
  "language_info": {
   "codemirror_mode": {
    "name": "ipython",
    "version": 3
   },
   "file_extension": ".py",
   "mimetype": "text/x-python",
   "name": "python",
   "nbconvert_exporter": "python",
   "pygments_lexer": "ipython3",
   "version": "3.12.3"
  }
 },
 "nbformat": 4,
 "nbformat_minor": 5
}
