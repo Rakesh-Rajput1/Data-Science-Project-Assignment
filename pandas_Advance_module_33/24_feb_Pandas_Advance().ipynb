{
 "cells": [
  {
   "cell_type": "markdown",
   "id": "3a4db3c2-e721-4c86-8640-18084554cfa1",
   "metadata": {},
   "source": [
    "    # Q1. List any five functions of the pandas library with execution."
   ]
  },
  {
   "cell_type": "code",
   "execution_count": 4,
   "id": "87c3af5b-8517-4435-a2ba-1bfe238ecbd9",
   "metadata": {},
   "outputs": [
    {
     "name": "stdout",
     "output_type": "stream",
     "text": [
      "      Name  Age  Gender\n",
      "0    Alice   25  Female\n",
      "1      Bob   30    Male\n",
      "2  Charlie   35    Male\n",
      "3    David   40    Male\n"
     ]
    }
   ],
   "source": [
    "import pandas as pd\n",
    "\n",
    "# Creating a dictionary of data\n",
    "data = {\n",
    "    'Name': ['Alice', 'Bob', 'Charlie', 'David'],\n",
    "    'Age': [25, 30, 35, 40],\n",
    "    'Gender': ['Female', 'Male', 'Male', 'Male']\n",
    "}\n",
    "\n",
    "# Creating a data frame from the dictionary\n",
    "df = pd.DataFrame(data)\n",
    "\n",
    "# Displaying the data frame\n",
    "print(df)\n"
   ]
  },
  {
   "cell_type": "code",
   "execution_count": 9,
   "id": "d504dbfe-de64-4251-b508-be9573dfa723",
   "metadata": {},
   "outputs": [
    {
     "data": {
      "text/html": [
       "<div>\n",
       "<style scoped>\n",
       "    .dataframe tbody tr th:only-of-type {\n",
       "        vertical-align: middle;\n",
       "    }\n",
       "\n",
       "    .dataframe tbody tr th {\n",
       "        vertical-align: top;\n",
       "    }\n",
       "\n",
       "    .dataframe thead th {\n",
       "        text-align: right;\n",
       "    }\n",
       "</style>\n",
       "<table border=\"1\" class=\"dataframe\">\n",
       "  <thead>\n",
       "    <tr style=\"text-align: right;\">\n",
       "      <th></th>\n",
       "      <th>Name</th>\n",
       "      <th>Age</th>\n",
       "      <th>Gender</th>\n",
       "    </tr>\n",
       "  </thead>\n",
       "  <tbody>\n",
       "    <tr>\n",
       "      <th>0</th>\n",
       "      <td>Alice</td>\n",
       "      <td>25</td>\n",
       "      <td>Female</td>\n",
       "    </tr>\n",
       "    <tr>\n",
       "      <th>1</th>\n",
       "      <td>Bob</td>\n",
       "      <td>30</td>\n",
       "      <td>Male</td>\n",
       "    </tr>\n",
       "    <tr>\n",
       "      <th>2</th>\n",
       "      <td>Charlie</td>\n",
       "      <td>35</td>\n",
       "      <td>Male</td>\n",
       "    </tr>\n",
       "    <tr>\n",
       "      <th>3</th>\n",
       "      <td>David</td>\n",
       "      <td>40</td>\n",
       "      <td>Male</td>\n",
       "    </tr>\n",
       "  </tbody>\n",
       "</table>\n",
       "</div>"
      ],
      "text/plain": [
       "      Name  Age  Gender\n",
       "0    Alice   25  Female\n",
       "1      Bob   30    Male\n",
       "2  Charlie   35    Male\n",
       "3    David   40    Male"
      ]
     },
     "execution_count": 9,
     "metadata": {},
     "output_type": "execute_result"
    }
   ],
   "source": [
    "# for five read\n",
    "df.head(5)\n",
    "\n",
    "# 3.deascribe\n",
    "df.describe()\n",
    "\n",
    "# 4. calcluate the na\n",
    "df.isnull().sum()\n",
    "\n",
    "# 5 dropna\n",
    "df.dropna()"
   ]
  },
  {
   "cell_type": "markdown",
   "id": "dd3e2b2e-2721-419c-ab71-bc515ced653f",
   "metadata": {},
   "source": [
    "Q2. Given a Pandas DataFrame df with columns 'A', 'B', and 'C', write a Python function to re-index the\n",
    "DataFrame with a new index that starts from 1 and increments by 2 for each row."
   ]
  },
  {
   "cell_type": "code",
   "execution_count": 10,
   "id": "28ae1a5a-619e-46f2-a916-9bcb5f1f7c3d",
   "metadata": {},
   "outputs": [
    {
     "name": "stdout",
     "output_type": "stream",
     "text": [
      "    A   B   C\n",
      "1  10  40  70\n",
      "3  20  50  80\n",
      "5  30  60  90\n"
     ]
    }
   ],
   "source": [
    "import pandas as pd\n",
    "\n",
    "def reindex_dataframe(df):\n",
    "    # Create a new index that starts from 1 and increments by 2 for each row\n",
    "    new_index = range(1, 2 * len(df) + 1, 2)\n",
    "    # Assign the new index to the DataFrame\n",
    "    df.index = new_index\n",
    "    return df\n",
    "\n",
    "# Sample DataFrame\n",
    "data = {\n",
    "    'A': [10, 20, 30],\n",
    "    'B': [40, 50, 60],\n",
    "    'C': [70, 80, 90]\n",
    "}\n",
    "df = pd.DataFrame(data)\n",
    "\n",
    "# Re-index the DataFrame\n",
    "reindexed_df = reindex_dataframe(df)\n",
    "print(reindexed_df)\n"
   ]
  },
  {
   "cell_type": "markdown",
   "id": "672da186-d2b6-4aba-95e8-3c9c1dd08292",
   "metadata": {},
   "source": [
    "Q3. You have a Pandas DataFrame df with a column named 'Values'. Write a Python function that\n",
    "iterates over the DataFrame and calculates the sum of the first three values in the 'Values' column. The\n",
    "function should print the sum to the console."
   ]
  },
  {
   "cell_type": "code",
   "execution_count": 11,
   "id": "50ba9b22-e2c8-484c-9450-a9385e237f19",
   "metadata": {},
   "outputs": [
    {
     "name": "stdout",
     "output_type": "stream",
     "text": [
      "Sum of the first three values: 60\n"
     ]
    }
   ],
   "source": [
    "import pandas as pd\n",
    "\n",
    "def sum_first_three_values(df):\n",
    "    # Ensure there are at least three values in the 'Values' column\n",
    "    if len(df['Values']) >= 3:\n",
    "        # Select the first three values from the 'Values' column\n",
    "        first_three_values = df['Values'].iloc[:3]\n",
    "        # Calculate the sum of the first three values\n",
    "        sum_values = first_three_values.sum()\n",
    "        # Print the sum to the console\n",
    "        print(\"Sum of the first three values:\", sum_values)\n",
    "    else:\n",
    "        print(\"The DataFrame does not have at least three values in the 'Values' column.\")\n",
    "\n",
    "# Sample DataFrame\n",
    "data = {\n",
    "    'Values': [10, 20, 30, 40, 50]\n",
    "}\n",
    "df = pd.DataFrame(data)\n",
    "\n",
    "# Calculate and print the sum of the first three values\n",
    "sum_first_three_values(df)\n"
   ]
  },
  {
   "cell_type": "markdown",
   "id": "2afbefcb-cef4-43e0-ac55-dd6106e49406",
   "metadata": {},
   "source": [
    "Q4. Given a Pandas DataFrame df with a column 'Text', write a Python function to create a new column\n",
    "'Word_Count' that contains the number of words in each row of the 'Text' column."
   ]
  },
  {
   "cell_type": "code",
   "execution_count": 13,
   "id": "9f71bc74-cd13-4a20-a05e-b6dbcf7ff14b",
   "metadata": {},
   "outputs": [
    {
     "name": "stdout",
     "output_type": "stream",
     "text": [
      "                                    Text  Word_Count\n",
      "0                  This is a sample text           5\n",
      "1                        Another example           2\n",
      "2  Pandas is great for data manipulation           6\n",
      "3                                                  0\n"
     ]
    }
   ],
   "source": [
    "import pandas as pd\n",
    "\n",
    "def add_word_count_column(df):\n",
    "    # Define a function to count the number of words in a text string\n",
    "    def count_words(text):\n",
    "        if pd.isna(text):\n",
    "            return 0\n",
    "        return len(text.split())\n",
    "\n",
    "    # Apply the count_words function to each row in the 'Text' column\n",
    "    df['Word_Count'] = df['Text'].apply(count_words)\n",
    "\n",
    "    return df\n",
    "\n",
    "# Sample DataFrame\n",
    "data = {\n",
    "    'Text': ['This is a sample text', 'Another example', 'Pandas is great for data manipulation', '']\n",
    "}\n",
    "df = pd.DataFrame(data)\n",
    "\n",
    "# Add the 'Word_Count' column\n",
    "df = add_word_count_column(df)\n",
    "\n",
    "# Display the DataFrame\n",
    "print(df)\n"
   ]
  },
  {
   "cell_type": "markdown",
   "id": "3306db1d-0361-4c78-b69b-f4976125b8e4",
   "metadata": {},
   "source": [
    "Q5. How are DataFrame.size() and DataFrame.shape() different?"
   ]
  },
  {
   "cell_type": "code",
   "execution_count": 14,
   "id": "cff3ad97-775d-43cc-9675-0f58c3e7bb87",
   "metadata": {},
   "outputs": [
    {
     "name": "stdout",
     "output_type": "stream",
     "text": [
      "DataFrame size: 12\n",
      "DataFrame shape: (4, 3)\n"
     ]
    }
   ],
   "source": [
    "import pandas as pd\n",
    "\n",
    "# Create a sample DataFrame\n",
    "data = {\n",
    "    'A': [1, 2, 3, 4],\n",
    "    'B': [5, 6, 7, 8],\n",
    "    'C': [9, 10, 11, 12]\n",
    "}\n",
    "df = pd.DataFrame(data)\n",
    "\n",
    "# Get the size of the DataFrame\n",
    "df_size = df.size\n",
    "\n",
    "# Get the shape of the DataFrame\n",
    "df_shape = df.shape\n",
    "\n",
    "print(\"DataFrame size:\", df_size)  # Output: 12\n",
    "print(\"DataFrame shape:\", df_shape)  # Output: (4, 3)\n"
   ]
  },
  {
   "cell_type": "markdown",
   "id": "4e7c0c87-4403-4092-b3bb-65dab77d744d",
   "metadata": {},
   "source": [
    "Q6. Which function of pandas do we use to read an excel file?"
   ]
  },
  {
   "cell_type": "code",
   "execution_count": 17,
   "id": "f8d78a25-c694-433c-9dce-f9c00ae03d1a",
   "metadata": {},
   "outputs": [],
   "source": [
    "# pd.read_excel() function are used to read csv file"
   ]
  },
  {
   "cell_type": "markdown",
   "id": "9aeea2e4-9899-4211-88b6-e3425340fe84",
   "metadata": {},
   "source": [
    "Q7. You have a Pandas DataFrame df that contains a column named 'Email' that contains email\n",
    "addresses in the format 'username@domain.com'. Write a Python function that creates a new column\n",
    "'Username' in df that contains only the username part of each email address."
   ]
  },
  {
   "cell_type": "code",
   "execution_count": 18,
   "id": "4fec2a14-ddad-4b60-80f1-49aeef8e2ed7",
   "metadata": {},
   "outputs": [
    {
     "name": "stdout",
     "output_type": "stream",
     "text": [
      "                   Email    Username\n",
      "0   john.doe@example.com    john.doe\n",
      "1  jane.smith@domain.com  jane.smith\n",
      "2  alice.bob@website.com   alice.bob\n"
     ]
    }
   ],
   "source": [
    "import pandas as pd\n",
    "\n",
    "# Sample DataFrame\n",
    "data = {\n",
    "    'Email': ['john.doe@example.com', 'jane.smith@domain.com', 'alice.bob@website.com']\n",
    "}\n",
    "df = pd.DataFrame(data)\n",
    "\n",
    "# Function to create 'Username' column\n",
    "def extract_username(df):\n",
    "    df['Username'] = df['Email'].apply(lambda x: x.split('@')[0])\n",
    "    return df\n",
    "\n",
    "# Apply the function to the DataFrame\n",
    "df = extract_username(df)\n",
    "\n",
    "# Display the updated DataFrame\n",
    "print(df)\n"
   ]
  },
  {
   "cell_type": "markdown",
   "id": "ee57e98b-e1a9-45da-bc49-d617d55f3c30",
   "metadata": {},
   "source": [
    "Q8. You have a Pandas DataFrame df with columns 'A', 'B', and 'C'. Write a Python function that selects\n",
    "all rows where the value in column 'A' is greater than 5 and the value in column 'B' is less than 10. The\n",
    "function should return a new DataFrame that contains only the selected rows.\n",
    "For example, if df contains the following values:\n",
    "A B C\n",
    "0 3 5 1\n",
    "1 8 2 7\n",
    "2 6 9 4\n",
    "3 2 3 5\n",
    "4 9 1 2"
   ]
  },
  {
   "cell_type": "code",
   "execution_count": 19,
   "id": "1ba0703d-e902-42ac-8395-db0f5e7c25fb",
   "metadata": {},
   "outputs": [
    {
     "name": "stdout",
     "output_type": "stream",
     "text": [
      "   A  B  C\n",
      "1  8  2  7\n",
      "2  6  9  4\n",
      "4  9  1  2\n"
     ]
    }
   ],
   "source": [
    "import pandas as pd\n",
    "\n",
    "# Sample DataFrame\n",
    "data = {\n",
    "    'A': [3, 8, 6, 2, 9],\n",
    "    'B': [5, 2, 9, 3, 1],\n",
    "    'C': [1, 7, 4, 5, 2]\n",
    "}\n",
    "df = pd.DataFrame(data)\n",
    "\n",
    "# Function to select rows based on conditions\n",
    "def select_rows(df):\n",
    "    new_df = df[(df['A'] > 5) & (df['B'] < 10)]\n",
    "    return new_df\n",
    "\n",
    "# Apply the function to the DataFrame\n",
    "filtered_df = select_rows(df)\n",
    "\n",
    "# Display the new DataFrame\n",
    "print(filtered_df)\n"
   ]
  },
  {
   "cell_type": "markdown",
   "id": "d4a20d66-9d84-4de5-9ffd-fd08fe617e2b",
   "metadata": {},
   "source": [
    "Q9. Given a Pandas DataFrame df with a column 'Values', write a Python function to calculate the mean,\n",
    "median, and standard deviation of the values in the 'Values' column."
   ]
  },
  {
   "cell_type": "code",
   "execution_count": 20,
   "id": "3b9ac40c-6728-441b-a468-2c4bb83f7863",
   "metadata": {},
   "outputs": [
    {
     "name": "stdout",
     "output_type": "stream",
     "text": [
      "Mean: 55.0\n",
      "Median: 55.0\n",
      "Standard Deviation: 30.276503540974915\n"
     ]
    }
   ],
   "source": [
    "import pandas as pd\n",
    "\n",
    "# Sample DataFrame\n",
    "data = {\n",
    "    'Values': [10, 20, 30, 40, 50, 60, 70, 80, 90, 100]\n",
    "}\n",
    "df = pd.DataFrame(data)\n",
    "\n",
    "# Function to calculate mean, median, and standard deviation\n",
    "def calculate_statistics(df):\n",
    "    mean_value = df['Values'].mean()\n",
    "    median_value = df['Values'].median()\n",
    "    std_dev_value = df['Values'].std()\n",
    "    \n",
    "    return mean_value, median_value, std_dev_value\n",
    "\n",
    "# Apply the function to the DataFrame\n",
    "mean, median, std_dev = calculate_statistics(df)\n",
    "\n",
    "# Display the results\n",
    "print(f\"Mean: {mean}\")\n",
    "print(f\"Median: {median}\")\n",
    "print(f\"Standard Deviation: {std_dev}\")\n"
   ]
  },
  {
   "cell_type": "markdown",
   "id": "b6727075-0742-4968-9f35-1d1b22b10a53",
   "metadata": {},
   "source": [
    "Q10. Given a Pandas DataFrame df with a column 'Sales' and a column 'Date', write a Python function to\n",
    "create a new column 'MovingAverage' that contains the moving average of the sales for the past 7 days\n",
    "for each row in the DataFrame. The moving average should be calculated using a window of size 7 and\n",
    "should include the current day."
   ]
  },
  {
   "cell_type": "code",
   "execution_count": 21,
   "id": "b16a06e4-15a0-4fc1-8273-e35bc4ea7f8c",
   "metadata": {},
   "outputs": [
    {
     "name": "stdout",
     "output_type": "stream",
     "text": [
      "         Date  Sales  MovingAverage\n",
      "0  2023-01-01    100          100.0\n",
      "1  2023-01-02    150          125.0\n",
      "2  2023-01-03    200          150.0\n",
      "3  2023-01-04    250          175.0\n",
      "4  2023-01-05    300          200.0\n",
      "5  2023-01-06    350          225.0\n",
      "6  2023-01-07    400          250.0\n",
      "7  2023-01-08    450          300.0\n",
      "8  2023-01-09    500          350.0\n",
      "9  2023-01-10    550          400.0\n",
      "10 2023-01-11    600          450.0\n",
      "11 2023-01-12    650          500.0\n",
      "12 2023-01-13    700          550.0\n",
      "13 2023-01-14    750          600.0\n",
      "14 2023-01-15    800          650.0\n",
      "15 2023-01-16    850          700.0\n",
      "16 2023-01-17    900          750.0\n",
      "17 2023-01-18    950          800.0\n",
      "18 2023-01-19   1000          850.0\n",
      "19 2023-01-20   1050          900.0\n",
      "20 2023-01-21   1100          950.0\n",
      "21 2023-01-22   1150         1000.0\n",
      "22 2023-01-23   1200         1050.0\n",
      "23 2023-01-24   1250         1100.0\n",
      "24 2023-01-25   1300         1150.0\n",
      "25 2023-01-26   1350         1200.0\n",
      "26 2023-01-27   1400         1250.0\n",
      "27 2023-01-28   1450         1300.0\n",
      "28 2023-01-29   1500         1350.0\n",
      "29 2023-01-30   1550         1400.0\n"
     ]
    }
   ],
   "source": [
    "import pandas as pd\n",
    "\n",
    "# Sample DataFrame\n",
    "data = {\n",
    "    'Date': pd.date_range(start='2023-01-01', periods=30),\n",
    "    'Sales': [100, 150, 200, 250, 300, 350, 400, 450, 500, 550, 600, 650, 700, \n",
    "              750, 800, 850, 900, 950, 1000, 1050, 1100, 1150, 1200, 1250, \n",
    "              1300, 1350, 1400, 1450, 1500, 1550]\n",
    "}\n",
    "df = pd.DataFrame(data)\n",
    "\n",
    "# Function to calculate moving average\n",
    "def calculate_moving_average(df, window_size=7):\n",
    "    # Sort DataFrame by date\n",
    "    df_sorted = df.sort_values(by='Date')\n",
    "    # Calculate moving average\n",
    "    df_sorted['MovingAverage'] = df_sorted['Sales'].rolling(window=window_size, min_periods=1).mean()\n",
    "    return df_sorted\n",
    "\n",
    "# Apply the function to the DataFrame\n",
    "df_with_moving_average = calculate_moving_average(df)\n",
    "\n",
    "# Display the DataFrame with the moving average\n",
    "print(df_with_moving_average)\n"
   ]
  },
  {
   "cell_type": "markdown",
   "id": "09958d76-851d-49cb-93db-9e5d751fc3da",
   "metadata": {},
   "source": [
    "Q11. You have a Pandas DataFrame df with a column 'Date'. Write a Python function that creates a new\n",
    "column 'Weekday' in the DataFrame. The 'Weekday' column should contain the weekday name (e.g.\n",
    "Monday, Tuesday) corresponding to each date in the 'Date' column.\n",
    "For example, if df contains the following values:\n",
    "\n",
    "Date\n",
    "0 2023-01-01\n",
    "\n",
    "1 2023-01-02\n",
    "\n",
    "2 2023-01-03\n",
    "\n",
    "3 2023-01-04\n",
    "\n",
    "4 2023-01-05\n",
    "\n",
    "Your function should create the following DataFrame:\n",
    "\n",
    "Date Weekday\n",
    "0 2023-01-01 Sunday\n",
    "\n",
    "1 2023-01-02 Monday\n",
    "\n",
    "2 2023-01-03 Tuesday\n",
    "\n",
    "3 2023-01-04 Wednesday\n",
    "\n",
    "4 2023-01-05 Thursday\n",
    "\n",
    "The function should return the modified DataFrame."
   ]
  },
  {
   "cell_type": "code",
   "execution_count": 22,
   "id": "e0dd6c51-7dd3-4a47-bf80-29edc443774d",
   "metadata": {},
   "outputs": [
    {
     "name": "stdout",
     "output_type": "stream",
     "text": [
      "        Date    Weekday\n",
      "0 2023-01-01     Sunday\n",
      "1 2023-01-02     Monday\n",
      "2 2023-01-03    Tuesday\n",
      "3 2023-01-04  Wednesday\n",
      "4 2023-01-05   Thursday\n"
     ]
    }
   ],
   "source": [
    "import pandas as pd\n",
    "\n",
    "# Sample DataFrame\n",
    "data = {\n",
    "    'Date': pd.date_range(start='2023-01-01', periods=5)\n",
    "}\n",
    "df = pd.DataFrame(data)\n",
    "\n",
    "# Function to add weekday column\n",
    "def add_weekday_column(df):\n",
    "    # Convert 'Date' column to datetime type if not already\n",
    "    df['Date'] = pd.to_datetime(df['Date'])\n",
    "    # Add 'Weekday' column\n",
    "    df['Weekday'] = df['Date'].dt.day_name()\n",
    "    return df\n",
    "\n",
    "# Apply the function to the DataFrame\n",
    "df_with_weekday = add_weekday_column(df)\n",
    "\n",
    "# Display the modified DataFrame\n",
    "print(df_with_weekday)\n"
   ]
  },
  {
   "cell_type": "markdown",
   "id": "15b96156-93ac-4a1c-93a7-ca6c05f6ace9",
   "metadata": {},
   "source": [
    "Q12. Given a Pandas DataFrame df with a column 'Date' that contains timestamps, write a Python\n",
    "function to select all rows where the date is between '2023-01-01' and '2023-01-31'."
   ]
  },
  {
   "cell_type": "code",
   "execution_count": 24,
   "id": "5bd34926-52a4-42d2-899a-72a64d2e7bfd",
   "metadata": {},
   "outputs": [
    {
     "name": "stdout",
     "output_type": "stream",
     "text": [
      "         Date  Values\n",
      "0  2023-01-01       1\n",
      "1  2023-01-02       2\n",
      "2  2023-01-03       3\n",
      "3  2023-01-04       4\n",
      "4  2023-01-05       5\n",
      "5  2023-01-06       6\n",
      "6  2023-01-07       7\n",
      "7  2023-01-08       8\n",
      "8  2023-01-09       9\n",
      "9  2023-01-10      10\n",
      "10 2023-01-11      11\n",
      "11 2023-01-12      12\n",
      "12 2023-01-13      13\n",
      "13 2023-01-14      14\n",
      "14 2023-01-15      15\n",
      "15 2023-01-16      16\n",
      "16 2023-01-17      17\n",
      "17 2023-01-18      18\n",
      "18 2023-01-19      19\n",
      "19 2023-01-20      20\n",
      "20 2023-01-21      21\n",
      "21 2023-01-22      22\n",
      "22 2023-01-23      23\n",
      "23 2023-01-24      24\n",
      "24 2023-01-25      25\n",
      "25 2023-01-26      26\n",
      "26 2023-01-27      27\n",
      "27 2023-01-28      28\n",
      "28 2023-01-29      29\n",
      "29 2023-01-30      30\n",
      "30 2023-01-31      31\n"
     ]
    }
   ],
   "source": [
    "import pandas as pd\n",
    "\n",
    "# Sample DataFrame\n",
    "data = {\n",
    "    'Date': pd.date_range(start='2023-01-01', end='2023-02-28'),\n",
    "    'Values': range(1, 60)\n",
    "}\n",
    "df = pd.DataFrame(data)\n",
    "\n",
    "# Function to select rows between specified dates\n",
    "def select_rows_between_dates(df, start_date, end_date):\n",
    "    # Convert 'Date' column to datetime type if not already\n",
    "    df['Date'] = pd.to_datetime(df['Date'])\n",
    "    # Select rows where date is between start_date and end_date\n",
    "    selected_rows = df[(df['Date'] >= start_date) & (df['Date'] <= end_date)]\n",
    "    return selected_rows\n",
    "\n",
    "# Call the function to select rows between '2023-01-01' and '2023-01-31'\n",
    "selected_rows = select_rows_between_dates(df, '2023-01-01', '2023-01-31')\n",
    "\n",
    "# Display the selected rows\n",
    "print(selected_rows)\n"
   ]
  },
  {
   "cell_type": "markdown",
   "id": "c9171826-dabc-43fc-9185-16c423f6aa27",
   "metadata": {},
   "source": [
    "Q13. To use the basic functions of pandas, what is the first and foremost necessary library that needs to\n",
    "be imported?"
   ]
  },
  {
   "cell_type": "code",
   "execution_count": null,
   "id": "b24d351d-b3f7-428a-be84-dc6078c38fdf",
   "metadata": {},
   "outputs": [],
   "source": []
  }
 ],
 "metadata": {
  "kernelspec": {
   "display_name": "Python 3 (ipykernel)",
   "language": "python",
   "name": "python3"
  },
  "language_info": {
   "codemirror_mode": {
    "name": "ipython",
    "version": 3
   },
   "file_extension": ".py",
   "mimetype": "text/x-python",
   "name": "python",
   "nbconvert_exporter": "python",
   "pygments_lexer": "ipython3",
   "version": "3.12.3"
  }
 },
 "nbformat": 4,
 "nbformat_minor": 5
}
