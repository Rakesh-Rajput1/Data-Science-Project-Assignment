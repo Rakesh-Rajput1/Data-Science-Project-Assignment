{
 "cells": [
  {
   "cell_type": "markdown",
   "id": "d72de69a-016f-4165-a304-0a9781d36da8",
   "metadata": {},
   "source": [
    "Consider following code to answer further questions:\n",
    "\n",
    "import pandas as pd\n",
    "\n",
    "course_name = [‘Data Science’, ‘Machine Learning’, ‘Big Data’, ‘Data Engineer’]\n",
    "\n",
    "duration = [2,3,6,4]\n",
    "\n",
    "df = pd.DataFrame(data = {‘course_name’ : course_name, ‘duration’ : duration})\n",
    "\n",
    "Q1. Write a code to print the data present in the second row of the dataframe, df."
   ]
  },
  {
   "cell_type": "code",
   "execution_count": 7,
   "id": "cee54330-b6e1-440f-9a03-f808d69bb07c",
   "metadata": {},
   "outputs": [
    {
     "data": {
      "text/html": [
       "<div>\n",
       "<style scoped>\n",
       "    .dataframe tbody tr th:only-of-type {\n",
       "        vertical-align: middle;\n",
       "    }\n",
       "\n",
       "    .dataframe tbody tr th {\n",
       "        vertical-align: top;\n",
       "    }\n",
       "\n",
       "    .dataframe thead th {\n",
       "        text-align: right;\n",
       "    }\n",
       "</style>\n",
       "<table border=\"1\" class=\"dataframe\">\n",
       "  <thead>\n",
       "    <tr style=\"text-align: right;\">\n",
       "      <th></th>\n",
       "      <th>course_name</th>\n",
       "      <th>duration</th>\n",
       "    </tr>\n",
       "  </thead>\n",
       "  <tbody>\n",
       "    <tr>\n",
       "      <th>0</th>\n",
       "      <td>Data Science</td>\n",
       "      <td>2</td>\n",
       "    </tr>\n",
       "    <tr>\n",
       "      <th>1</th>\n",
       "      <td>Machine Learning</td>\n",
       "      <td>3</td>\n",
       "    </tr>\n",
       "    <tr>\n",
       "      <th>2</th>\n",
       "      <td>Big Data</td>\n",
       "      <td>6</td>\n",
       "    </tr>\n",
       "    <tr>\n",
       "      <th>3</th>\n",
       "      <td>Data Engineer</td>\n",
       "      <td>4</td>\n",
       "    </tr>\n",
       "  </tbody>\n",
       "</table>\n",
       "</div>"
      ],
      "text/plain": [
       "        course_name  duration\n",
       "0      Data Science         2\n",
       "1  Machine Learning         3\n",
       "2          Big Data         6\n",
       "3     Data Engineer         4"
      ]
     },
     "execution_count": 7,
     "metadata": {},
     "output_type": "execute_result"
    }
   ],
   "source": [
    "import pandas as pd\n",
    "course_name = ['Data Science', 'Machine Learning', 'Big Data', 'Data Engineer']\n",
    "duration = [2,3,6,4]\n",
    "df = pd.DataFrame(data = {'course_name' : course_name, 'duration' : duration})\n",
    "df.head(5)"
   ]
  },
  {
   "cell_type": "markdown",
   "id": "7fafbd8d-2019-4e23-a39a-9224d3df759c",
   "metadata": {},
   "source": [
    "Q2. What is the difference between the functions loc and iloc in pandas.DataFrame?"
   ]
  },
  {
   "cell_type": "markdown",
   "id": "99acd456-ae44-46f4-a71a-ebc2c7b918f4",
   "metadata": {},
   "source": [
    "\n",
    "The functions loc and iloc in pandas are used to access data in a DataFrame, but they have different ways of indexing and selecting data:\n",
    "\n",
    "\n",
    "loc: This function is used for label-based indexing. It allows you to access rows and columns in a DataFrame using their labels (i.e., row and column names). You specify the row and column labels explicitly.\n",
    "\n",
    "iloc: This function is used for integer-based indexing. It allows you to access rows and columns in a DataFrame using their integer position. You specify the row and column positions explicitly. \n",
    "\n",
    "In summary, loc is used for label-based indexing, while iloc is used for integer-based indexing.\n",
    "\n",
    "\n",
    "\n",
    "\n",
    "\n",
    "\n"
   ]
  },
  {
   "cell_type": "code",
   "execution_count": 9,
   "id": "300476a9-d688-4871-808f-593874efeccc",
   "metadata": {},
   "outputs": [],
   "source": [
    "# # Accessing a single row with label 'row_label'\n",
    "# df.loc['row_label']\n",
    "\n",
    "# # Accessing a single element with label 'row_label' and 'column_label'\n",
    "# df.loc['row_label', 'column_label']\n",
    "\n",
    "# # Accessing multiple rows with labels 'row_label1', 'row_label2', ...\n",
    "# df.loc[['row_label1', 'row_label2', ...]]\n",
    "\n",
    "# # Accessing all rows and specific columns\n",
    "# df.loc[:, ['column_label1', 'column_label2', ...]]\n",
    "\n",
    "\n",
    "# Accessing a single row at position 0\n",
    "# df.iloc[0]\n",
    "\n",
    "# # Accessing a single element at position (0, 1)\n",
    "# df.iloc[0, 1]\n",
    "\n",
    "# # Accessing multiple rows at positions 0, 1, ...\n",
    "# df.iloc[[0, 1, ...]]\n",
    "\n",
    "# # Accessing all rows and specific columns at positions 0, 1, ...\n",
    "# df.iloc[:, [0, 1, ...]]\n",
    "\n"
   ]
  },
  {
   "cell_type": "markdown",
   "id": "cc4e27f2-d1dd-4d88-8e98-93096d220e7a",
   "metadata": {},
   "source": [
    "Q3. Reindex the given dataframe using a variable, reindex = [3,0,1,2] and store it in the variable, new_df\n",
    "then find the output for both new_df.loc[2] and new_df.iloc[2].\n",
    "\n",
    "Did you observe any difference in both the outputs? If so then explain it.\n",
    "Consider the below code to answer further questions:\n",
    "\n",
    "import pandas as pd\n",
    "import numpy as np\n",
    "columns = ['column_1', 'column_2', 'column_3', 'column_4', 'column_5', 'column_6']\n",
    "indices = [1,2,3,4,5,6]\n",
    "#Creating a dataframe:\n",
    "df1 = pd.DataFrame(np.random.rand(6,6), columns = columns, index = indices)\n",
    "\n",
    "\n",
    "Ans \n",
    "\n",
    "\n",
    "Yes, there will be a difference in the outputs of new_df.loc[2] and new_df.iloc[2] because they use different indexing methods:\n",
    "\n",
    "new_df.loc[2]: This uses label-based indexing (loc). It will look for the row with the label 2 in the index of the DataFrame new_df. Since the index has been reindexed using the list [3, 0, 1, 2], the row labels are [3, 0, 1, 2]. Therefore, new_df.loc[2] will try to find the row with the label 2, which is not present in the index after reindexing. Hence, it will raise a KeyError because it couldn't find the label 2.\n",
    "\n",
    "new_df.iloc[2]: This uses integer-based indexing (iloc). It will look for the row at the integer position 2 in the DataFrame new_df. After reindexing, the rows are positioned at [3, 0, 1, 2]. Therefore, new_df.iloc[2] will retrieve the row at position 2, which corresponds to the row labeled 1 in the original DataFrame df1."
   ]
  },
  {
   "cell_type": "markdown",
   "id": "8adc24d7-aa91-46fe-b00d-99f05d1f8ad4",
   "metadata": {},
   "source": [
    "Q4. Write a code to find the following statistical measurements for the above dataframe df1:\n",
    "\n",
    "(i) mean of each and every column present in the dataframe.\n",
    "\n",
    "(ii) standard deviation of column, ‘column_2’"
   ]
  },
  {
   "cell_type": "code",
   "execution_count": 10,
   "id": "63993ca3-3a3a-45b8-b242-668ba0750d32",
   "metadata": {},
   "outputs": [
    {
     "name": "stdout",
     "output_type": "stream",
     "text": [
      "Mean of each column:\n",
      "column_1    0.463060\n",
      "column_2    0.418814\n",
      "column_3    0.740912\n",
      "column_4    0.674262\n",
      "column_5    0.572085\n",
      "column_6    0.552301\n",
      "dtype: float64\n",
      "\n",
      "Standard deviation of column 'column_2': 0.28206053119499364\n"
     ]
    }
   ],
   "source": [
    "import pandas as pd\n",
    "import numpy as np\n",
    "\n",
    "# Creating the DataFrame\n",
    "columns = ['column_1', 'column_2', 'column_3', 'column_4', 'column_5', 'column_6']\n",
    "indices = [1, 2, 3, 4, 5, 6]\n",
    "df1 = pd.DataFrame(np.random.rand(6, 6), columns=columns, index=indices)\n",
    "\n",
    "# (i) Mean of each and every column\n",
    "column_means = df1.mean()\n",
    "print(\"Mean of each column:\")\n",
    "print(column_means)\n",
    "\n",
    "# (ii) Standard deviation of column 'column_2'\n",
    "column_2_std = df1['column_2'].std()\n",
    "print(\"\\nStandard deviation of column 'column_2':\", column_2_std)\n"
   ]
  },
  {
   "cell_type": "markdown",
   "id": "24819145-d93b-4667-b24f-fe2b8b388247",
   "metadata": {},
   "source": [
    "Q5. Replace the data present in the second row of column, ‘column_2’ by a string variable then find the\n",
    "mean of column, column_2.\n",
    "If you are getting errors in executing it then explain why.\n",
    "[Hint: To replace the data use df1.loc[] and equate this to string data of your choice.]"
   ]
  },
  {
   "cell_type": "code",
   "execution_count": 11,
   "id": "00ddab7a-e501-42d7-9d47-c61aa740b7ac",
   "metadata": {},
   "outputs": [
    {
     "name": "stdout",
     "output_type": "stream",
     "text": [
      "Mean of 'column_2': 0.3479561884067409\n"
     ]
    },
    {
     "name": "stderr",
     "output_type": "stream",
     "text": [
      "C:\\Users\\asus\\AppData\\Local\\Temp\\ipykernel_11988\\4075307388.py:2: FutureWarning: Setting an item of incompatible dtype is deprecated and will raise an error in a future version of pandas. Value 'string_data' has dtype incompatible with float64, please explicitly cast to a compatible dtype first.\n",
      "  df1.loc[2, 'column_2'] = 'string_data'\n"
     ]
    }
   ],
   "source": [
    "# Replace the data in the second row of 'column_2' with a string variable\n",
    "df1.loc[2, 'column_2'] = 'string_data'\n",
    "\n",
    "# Convert the datatype of 'column_2' to numeric (if it's not already) to calculate the mean\n",
    "df1['column_2'] = pd.to_numeric(df1['column_2'], errors='coerce')\n",
    "\n",
    "# Calculate the mean of 'column_2'\n",
    "column_2_mean = df1['column_2'].mean()\n",
    "print(\"Mean of 'column_2':\", column_2_mean)\n"
   ]
  },
  {
   "cell_type": "markdown",
   "id": "d2514234-8bb9-4af1-ae30-5313f4b8a5a4",
   "metadata": {},
   "source": [
    "Q6. What do you understand about the windows function in pandas and list the types of windows\n",
    "functions?\n",
    "\n",
    "Ans\n",
    "\n",
    "In pandas, the window functions are used to perform calculations on a sliding window of data points defined by a specified window size or condition. These functions allow for efficient computation of aggregations, transformations, and other operations over rolling or expanding windows of data.\n",
    "\n",
    "Types of window functions in pandas include:\n",
    "\n",
    "Rolling window functions: These functions operate on a fixed-size window of consecutive data points and move the window across the data series. Some common rolling window functions include:\n",
    "\n",
    "rolling(): Provides a rolling window of a specified size.\n",
    "Aggregation functions like mean(), sum(), min(), max(), etc., which compute aggregates over the rolling window.\n",
    "Transformation functions like shift(), diff(), pct_change(), etc., which compute transformations over the rolling window.\n",
    "Expanding window functions: These functions operate on an expanding window that grows with the data series. They include:\n",
    "\n",
    "expanding(): Provides an expanding window starting from the beginning of the data series.\n",
    "Aggregation functions like mean(), sum(), min(), max(), etc., which compute aggregates over the expanding window.\n",
    "Transformation functions like cumsum(), cumprod(), etc., which compute cumulative sums or products over the expanding window.\n",
    "EWMA (Exponentially Weighted Moving Average): EWMA is a type of rolling window function that assigns exponentially decreasing weights to past observations. It is useful for smoothing noisy data and identifying trends over time.\n",
    "\n",
    "Window grouping functions: These functions allow for partitioning the data into groups based on specific criteria before applying window operations. Examples include groupby() followed by rolling() or expanding() functions."
   ]
  },
  {
   "cell_type": "markdown",
   "id": "7ee4a948-0c48-41f7-abf8-ca311990abc4",
   "metadata": {},
   "source": [
    "Q7. Write a code to print only the current month and year at the time of answering this question.\n",
    "[Hint: Use pandas.datetime function]"
   ]
  },
  {
   "cell_type": "code",
   "execution_count": 13,
   "id": "ee9cca45-1287-4ad9-aaab-d871eda65ab5",
   "metadata": {},
   "outputs": [
    {
     "name": "stdout",
     "output_type": "stream",
     "text": [
      "Current Month: 5\n",
      "Current Year: 2024\n"
     ]
    }
   ],
   "source": [
    "import pandas as pd\n",
    "\n",
    "# Get the current date and time\n",
    "current_date = pd.Timestamp.now()\n",
    "\n",
    "# Extract the month and year from the current date\n",
    "current_month = current_date.month\n",
    "current_year = current_date.year\n",
    "\n",
    "# Print the current month and year\n",
    "print(\"Current Month:\", current_month)\n",
    "print(\"Current Year:\", current_year)\n"
   ]
  },
  {
   "cell_type": "markdown",
   "id": "ba225577-59b4-444a-9ac7-9e64cf21b5ef",
   "metadata": {},
   "source": [
    "Q8. Write a Python program that takes in two dates as input (in the format YYYY-MM-DD) and\n",
    "calculates the difference between them in days, hours, and minutes using Pandas time delta. The\n",
    "program should prompt the user to enter the dates and display the result."
   ]
  },
  {
   "cell_type": "code",
   "execution_count": 14,
   "id": "2846473f-e743-4adb-b272-8d845b222174",
   "metadata": {},
   "outputs": [
    {
     "name": "stdin",
     "output_type": "stream",
     "text": [
      "Enter the start date (YYYY-MM-DD):  asdf\n",
      "Enter the end date (YYYY-MM-DD):  sadf\n"
     ]
    },
    {
     "ename": "DateParseError",
     "evalue": "Unknown datetime string format, unable to parse: asdf",
     "output_type": "error",
     "traceback": [
      "\u001b[1;31m---------------------------------------------------------------------------\u001b[0m",
      "\u001b[1;31mDateParseError\u001b[0m                            Traceback (most recent call last)",
      "Cell \u001b[1;32mIn[14], line 23\u001b[0m\n\u001b[0;32m     20\u001b[0m end_date \u001b[38;5;241m=\u001b[39m \u001b[38;5;28minput\u001b[39m(\u001b[38;5;124m\"\u001b[39m\u001b[38;5;124mEnter the end date (YYYY-MM-DD): \u001b[39m\u001b[38;5;124m\"\u001b[39m)\n\u001b[0;32m     22\u001b[0m \u001b[38;5;66;03m# Calculate the time difference\u001b[39;00m\n\u001b[1;32m---> 23\u001b[0m days, hours, minutes \u001b[38;5;241m=\u001b[39m \u001b[43mcalculate_time_difference\u001b[49m\u001b[43m(\u001b[49m\u001b[43mstart_date\u001b[49m\u001b[43m,\u001b[49m\u001b[43m \u001b[49m\u001b[43mend_date\u001b[49m\u001b[43m)\u001b[49m\n\u001b[0;32m     25\u001b[0m \u001b[38;5;66;03m# Display the result\u001b[39;00m\n\u001b[0;32m     26\u001b[0m \u001b[38;5;28mprint\u001b[39m(\u001b[38;5;124m\"\u001b[39m\u001b[38;5;124mTime difference:\u001b[39m\u001b[38;5;124m\"\u001b[39m)\n",
      "Cell \u001b[1;32mIn[14], line 5\u001b[0m, in \u001b[0;36mcalculate_time_difference\u001b[1;34m(start_date, end_date)\u001b[0m\n\u001b[0;32m      3\u001b[0m \u001b[38;5;28;01mdef\u001b[39;00m \u001b[38;5;21mcalculate_time_difference\u001b[39m(start_date, end_date):\n\u001b[0;32m      4\u001b[0m     \u001b[38;5;66;03m# Convert input strings to pandas Timestamp objects\u001b[39;00m\n\u001b[1;32m----> 5\u001b[0m     start_timestamp \u001b[38;5;241m=\u001b[39m \u001b[43mpd\u001b[49m\u001b[38;5;241;43m.\u001b[39;49m\u001b[43mTimestamp\u001b[49m\u001b[43m(\u001b[49m\u001b[43mstart_date\u001b[49m\u001b[43m)\u001b[49m\n\u001b[0;32m      6\u001b[0m     end_timestamp \u001b[38;5;241m=\u001b[39m pd\u001b[38;5;241m.\u001b[39mTimestamp(end_date)\n\u001b[0;32m      8\u001b[0m     \u001b[38;5;66;03m# Calculate time difference using timedelta\u001b[39;00m\n",
      "File \u001b[1;32mtimestamps.pyx:1865\u001b[0m, in \u001b[0;36mpandas._libs.tslibs.timestamps.Timestamp.__new__\u001b[1;34m()\u001b[0m\n",
      "File \u001b[1;32mconversion.pyx:364\u001b[0m, in \u001b[0;36mpandas._libs.tslibs.conversion.convert_to_tsobject\u001b[1;34m()\u001b[0m\n",
      "File \u001b[1;32mconversion.pyx:641\u001b[0m, in \u001b[0;36mpandas._libs.tslibs.conversion.convert_str_to_tsobject\u001b[1;34m()\u001b[0m\n",
      "File \u001b[1;32mparsing.pyx:336\u001b[0m, in \u001b[0;36mpandas._libs.tslibs.parsing.parse_datetime_string\u001b[1;34m()\u001b[0m\n",
      "File \u001b[1;32mparsing.pyx:666\u001b[0m, in \u001b[0;36mpandas._libs.tslibs.parsing.dateutil_parse\u001b[1;34m()\u001b[0m\n",
      "\u001b[1;31mDateParseError\u001b[0m: Unknown datetime string format, unable to parse: asdf"
     ]
    }
   ],
   "source": [
    "import pandas as pd\n",
    "\n",
    "def calculate_time_difference(start_date, end_date):\n",
    "    # Convert input strings to pandas Timestamp objects\n",
    "    start_timestamp = pd.Timestamp(start_date)\n",
    "    end_timestamp = pd.Timestamp(end_date)\n",
    "    \n",
    "    # Calculate time difference using timedelta\n",
    "    time_difference = end_timestamp - start_timestamp\n",
    "    \n",
    "    # Extract days, hours, and minutes from the time difference\n",
    "    days = time_difference.days\n",
    "    hours = time_difference.seconds // 3600\n",
    "    minutes = (time_difference.seconds % 3600) // 60\n",
    "    \n",
    "    return days, hours, minutes\n",
    "\n",
    "# Prompt the user to enter the start and end dates\n",
    "start_date = input(\"Enter the start date (YYYY-MM-DD): \")\n",
    "end_date = input(\"Enter the end date (YYYY-MM-DD): \")\n",
    "\n",
    "# Calculate the time difference\n",
    "days, hours, minutes = calculate_time_difference(start_date, end_date)\n",
    "\n",
    "# Display the result\n",
    "print(\"Time difference:\")\n",
    "print(f\"Days: {days}\")\n",
    "print(f\"Hours: {hours}\")\n",
    "print(f\"Minutes: {minutes}\")\n"
   ]
  },
  {
   "cell_type": "markdown",
   "id": "0b7398b5-adc8-4618-a4d7-3f5855dc06af",
   "metadata": {},
   "source": [
    "Q9. Write a Python program that reads a CSV file containing categorical data and converts a specified\n",
    "column to a categorical data type. The program should prompt the user to enter the file path, column\n",
    "name, and category order, and then display the sorted data."
   ]
  },
  {
   "cell_type": "code",
   "execution_count": null,
   "id": "002ce08f-4e2e-42af-81ae-420dbaa2caa8",
   "metadata": {},
   "outputs": [],
   "source": [
    "import pandas as pd\n",
    "\n",
    "def convert_to_categorical(csv_file, column_name, category_order):\n",
    "    # Read the CSV file into a DataFrame\n",
    "    df = pd.read_csv(csv_file)\n",
    "    \n",
    "    # Convert the specified column to categorical data type\n",
    "    df[column_name] = pd.Categorical(df[column_name], categories=category_order, ordered=True)\n",
    "    \n",
    "    # Sort the DataFrame by the specified column\n",
    "    df_sorted = df.sort_values(by=column_name)\n",
    "    \n",
    "    return df_sorted\n",
    "\n",
    "def main():\n",
    "    # Prompt the user to enter the file path, column name, and category order\n",
    "    csv_file = input(\"Enter the path to the CSV file: \")\n",
    "    column_name = input(\"Enter the name of the column to convert to categorical: \")\n",
    "    category_order = input(\"Enter the category order (comma-separated): \").split(',')\n",
    "    \n",
    "    # Convert the specified column to categorical data type and display the sorted data\n",
    "    sorted_data = convert_to_categorical(csv_file, column_name, category_order)\n",
    "    print(sorted_data)\n",
    "\n",
    "if __name__ == \"__main__\":\n",
    "    main()\n"
   ]
  },
  {
   "cell_type": "markdown",
   "id": "156c4ed9-8d1d-495c-9e32-ab01ee1e7092",
   "metadata": {},
   "source": [
    "Q10. Write a Python program that reads a CSV file containing sales data for different products and\n",
    "visualizes the data using a stacked bar chart to show the sales of each product category over time. The\n",
    "program should prompt the user to enter the file path and display the chart."
   ]
  },
  {
   "cell_type": "code",
   "execution_count": null,
   "id": "b8252c51-ffff-455c-8019-a0867b72ff4c",
   "metadata": {},
   "outputs": [],
   "source": [
    "import pandas as pd\n",
    "import matplotlib.pyplot as plt\n",
    "\n",
    "def visualize_sales_data(csv_file):\n",
    "    # Read the CSV file into a DataFrame\n",
    "    df = pd.read_csv(csv_file)\n",
    "    \n",
    "    # Convert the 'Date' column to datetime data type\n",
    "    df['Date'] = pd.to_datetime(df['Date'])\n",
    "    \n",
    "    # Extract year and month from the 'Date' column\n",
    "    df['Year'] = df['Date'].dt.year\n",
    "    df['Month'] = df['Date'].dt.month\n",
    "    \n",
    "    # Group the data by year, month, and product category and sum the sales\n",
    "    df_grouped = df.groupby(['Year', 'Month', 'Product_Category'])['Sales'].sum().reset_index()\n",
    "    \n",
    "    # Pivot the data to create a pivot table with years as rows, months as columns, and sales as values\n",
    "    pivot_table = df_grouped.pivot_table(index='Year', columns='Month', values='Sales', aggfunc='sum', fill_value=0)\n",
    "    \n",
    "    # Plot a stacked bar chart\n",
    "    pivot_table.plot(kind='bar', stacked=True)\n",
    "    plt.title('Sales of Each Product Category Over Time')\n",
    "    plt.xlabel('Year')\n",
    "    plt.ylabel('Sales')\n",
    "    plt.legend(title='Month', bbox_to_anchor=(1, 1))\n",
    "    plt.show()\n",
    "\n",
    "def main():\n",
    "    # Prompt the user to enter the file path\n",
    "    csv_file = input(\"Enter the path to the CSV file: \")\n",
    "    \n",
    "    # Visualize the sales data using a stacked bar chart\n",
    "    visualize_sales_data(csv_file)\n",
    "\n",
    "if __name__ == \"__main__\":\n",
    "    main()\n"
   ]
  },
  {
   "cell_type": "markdown",
   "id": "ab9273a5-1781-422f-97ac-01aa436b51d8",
   "metadata": {},
   "source": [
    "Q11. You are given a CSV file containing student data that includes the student ID and their test score. Write\n",
    "a Python program that reads the CSV file, calculates the mean, median, and mode of the test scores, and\n",
    "displays the results in a table.\n",
    "The program should do the followingM\n",
    "I Prompt the user to enter the file path of the CSV file containing the student dataR\n",
    "I Read the CSV file into a Pandas DataFrameR\n",
    "I Calculate the mean, median, and mode of the test scores using Pandas toolsR\n",
    "I Display the mean, median, and mode in a table.\n",
    "Assume the CSV file contains the following columnsM\n",
    "I Student ID: The ID of the studentR\n",
    "I Test Score: The score of the student's test.\n",
    "Example usage of the program:\n",
    "Enter the file path of the CSV file containing the student data: student_data.csv\n",
    "+-----------+--------+\n",
    "| Statistic | Value |\n",
    "+-----------+--------+\n",
    "| Mean | 79.6 |\n",
    "| Median | 82 |\n",
    "| Mode | 85, 90 |\n",
    "+-----------+--------+\n",
    "Assume that the CSV file student_data.csv contains the following data:\n",
    "Student ID,Test Score\n",
    "1,85\n",
    "2,90\n",
    "3,80\n",
    "4,75\n",
    "5,85\n",
    "6,82\n",
    "7,78\n",
    "8,85\n",
    "9,90\n",
    "10,85\n",
    "The program should calculate the mean, median, and mode of the test scores and display the results\n",
    "in a table."
   ]
  },
  {
   "cell_type": "code",
   "execution_count": null,
   "id": "a44ece8a-08b0-4de9-8f34-6e738ac098ca",
   "metadata": {},
   "outputs": [],
   "source": [
    "import pandas as pd\n",
    "\n",
    "def calculate_statistics(csv_file):\n",
    "    # Read the CSV file into a DataFrame\n",
    "    df = pd.read_csv(csv_file)\n",
    "    \n",
    "    # Calculate the mean, median, and mode of the test scores\n",
    "    mean_score = df['Test Score'].mean()\n",
    "    median_score = df['Test Score'].median()\n",
    "    mode_score = df['Test Score'].mode()\n",
    "    \n",
    "    return mean_score, median_score, mode_score\n",
    "\n",
    "def display_statistics(mean_score, median_score, mode_score):\n",
    "    # Display the statistics in a table\n",
    "    print(\"+-----------+--------+\")\n",
    "    print(\"| Statistic | Value  |\")\n",
    "    print(\"+-----------+--------+\")\n",
    "    print(f\"| Mean      | {mean_score:.1f}   |\")\n",
    "    print(f\"| Median    | {median_score}    |\")\n",
    "    print(f\"| Mode      | {', '.join(map(str, mode_score.tolist()))} |\")\n",
    "    print(\"+-----------+--------+\")\n",
    "\n",
    "def main():\n",
    "    # Prompt the user to enter the file path of the CSV file containing the student data\n",
    "    csv_file = input(\"Enter the file path of the CSV file containing the student data: \")\n",
    "    \n",
    "    # Calculate the statistics\n",
    "    mean_score, median_score, mode_score = calculate_statistics(csv_file)\n",
    "    \n",
    "    # Display the statistics\n",
    "    display_statistics(mean_score, median_score, mode_score)\n",
    "\n",
    "if __name__ == \"__main__\":\n",
    "    main()\n"
   ]
  },
  {
   "cell_type": "code",
   "execution_count": null,
   "id": "b0d77644-d7e5-49fe-a611-498d65f7586b",
   "metadata": {},
   "outputs": [],
   "source": []
  }
 ],
 "metadata": {
  "kernelspec": {
   "display_name": "Python 3 (ipykernel)",
   "language": "python",
   "name": "python3"
  },
  "language_info": {
   "codemirror_mode": {
    "name": "ipython",
    "version": 3
   },
   "file_extension": ".py",
   "mimetype": "text/x-python",
   "name": "python",
   "nbconvert_exporter": "python",
   "pygments_lexer": "ipython3",
   "version": "3.12.3"
  }
 },
 "nbformat": 4,
 "nbformat_minor": 5
}
